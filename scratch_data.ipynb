{
 "cells": [
  {
   "cell_type": "markdown",
   "metadata": {},
   "source": [
    "# Изучение открытых данных"
   ]
  },
  {
   "cell_type": "markdown",
   "metadata": {},
   "source": [
    "__Источник данных__:\n",
    "www.data.gov.ru"
   ]
  },
  {
   "cell_type": "code",
   "execution_count": 5,
   "metadata": {
    "collapsed": true
   },
   "outputs": [],
   "source": [
    "api_token = 'insert your own token'"
   ]
  },
  {
   "cell_type": "code",
   "execution_count": 6,
   "metadata": {
    "collapsed": false
   },
   "outputs": [],
   "source": [
    "import urllib.request\n",
    "import json\n",
    "import pandas as pd"
   ]
  },
  {
   "cell_type": "code",
   "execution_count": 7,
   "metadata": {
    "collapsed": false
   },
   "outputs": [],
   "source": [
    "url_start = 'http://data.gov.ru/api/'\n",
    "url_end = '/?access_token=' + api_token\n",
    "\n",
    "def get_data(query):\n",
    "    url = url_start + query + url_end\n",
    "    with urllib.request.urlopen(url) as response:  \n",
    "        raw_data = str(response.read(), 'utf-8')\n",
    "    return raw_data"
   ]
  },
  {
   "cell_type": "markdown",
   "metadata": {},
   "source": [
    "## Перечень наборов данных"
   ]
  },
  {
   "cell_type": "markdown",
   "metadata": {},
   "source": [
    "Запрос вида api/dataset/?access_token=7e9d0c209e93684a37a575ca4dl5h3d7"
   ]
  },
  {
   "cell_type": "code",
   "execution_count": 8,
   "metadata": {
    "collapsed": false
   },
   "outputs": [
    {
     "name": "stdout",
     "output_type": "stream",
     "text": [
      "9624\n"
     ]
    },
    {
     "data": {
      "text/html": [
       "<div>\n",
       "<table border=\"1\" class=\"dataframe\">\n",
       "  <thead>\n",
       "    <tr style=\"text-align: right;\">\n",
       "      <th></th>\n",
       "      <th>identifier</th>\n",
       "      <th>organization</th>\n",
       "      <th>organization_name</th>\n",
       "      <th>title</th>\n",
       "      <th>topic</th>\n",
       "    </tr>\n",
       "  </thead>\n",
       "  <tbody>\n",
       "    <tr>\n",
       "      <th>0</th>\n",
       "      <td>7710349494-mfclist</td>\n",
       "      <td>7.710349e+09</td>\n",
       "      <td>Министерство экономического развития Российско...</td>\n",
       "      <td>Список МФЦ</td>\n",
       "      <td>Government</td>\n",
       "    </tr>\n",
       "    <tr>\n",
       "      <th>1</th>\n",
       "      <td>7707778246-organizations</td>\n",
       "      <td>7.707778e+09</td>\n",
       "      <td>Министерство здравоохранения Российской Федерации</td>\n",
       "      <td>Реестр подведомственных организаций Министерст...</td>\n",
       "      <td>Government</td>\n",
       "    </tr>\n",
       "    <tr>\n",
       "      <th>2</th>\n",
       "      <td>7710474375-perechenpodved</td>\n",
       "      <td>7.710474e+09</td>\n",
       "      <td>Министерство связи и массовых коммуникаций Рос...</td>\n",
       "      <td>Перечень подведомственных организаций</td>\n",
       "      <td>Government</td>\n",
       "    </tr>\n",
       "    <tr>\n",
       "      <th>3</th>\n",
       "      <td>7710474375-svedovak</td>\n",
       "      <td>7.710474e+09</td>\n",
       "      <td>Министерство связи и массовых коммуникаций Рос...</td>\n",
       "      <td>Сведения о вакантных должностях государственно...</td>\n",
       "      <td>Government</td>\n",
       "    </tr>\n",
       "    <tr>\n",
       "      <th>4</th>\n",
       "      <td>7710474375-registergosaccred</td>\n",
       "      <td>7.710474e+09</td>\n",
       "      <td>Министерство связи и массовых коммуникаций Рос...</td>\n",
       "      <td>Реестр аккредитованных организаций, осуществля...</td>\n",
       "      <td>Government</td>\n",
       "    </tr>\n",
       "  </tbody>\n",
       "</table>\n",
       "</div>"
      ],
      "text/plain": [
       "                     identifier  organization  \\\n",
       "0            7710349494-mfclist  7.710349e+09   \n",
       "1      7707778246-organizations  7.707778e+09   \n",
       "2     7710474375-perechenpodved  7.710474e+09   \n",
       "3           7710474375-svedovak  7.710474e+09   \n",
       "4  7710474375-registergosaccred  7.710474e+09   \n",
       "\n",
       "                                   organization_name  \\\n",
       "0  Министерство экономического развития Российско...   \n",
       "1  Министерство здравоохранения Российской Федерации   \n",
       "2  Министерство связи и массовых коммуникаций Рос...   \n",
       "3  Министерство связи и массовых коммуникаций Рос...   \n",
       "4  Министерство связи и массовых коммуникаций Рос...   \n",
       "\n",
       "                                               title       topic  \n",
       "0                                         Список МФЦ  Government  \n",
       "1  Реестр подведомственных организаций Министерст...  Government  \n",
       "2              Перечень подведомственных организаций  Government  \n",
       "3  Сведения о вакантных должностях государственно...  Government  \n",
       "4  Реестр аккредитованных организаций, осуществля...  Government  "
      ]
     },
     "execution_count": 8,
     "metadata": {},
     "output_type": "execute_result"
    }
   ],
   "source": [
    "data = pd.read_json(get_data('dataset'))\n",
    "print(len(data))\n",
    "data.head()"
   ]
  },
  {
   "cell_type": "markdown",
   "metadata": {},
   "source": [
    "### Топ-10 организаций"
   ]
  },
  {
   "cell_type": "code",
   "execution_count": 9,
   "metadata": {
    "collapsed": false,
    "scrolled": true
   },
   "outputs": [
    {
     "data": {
      "text/plain": [
       "Федеральная служба государственной статистики                                            2407\n",
       "Правительство Тульской области                                                            880\n",
       "Высший исполнительный орган государственной власти города Москвы-Правительство Москвы     801\n",
       "Правительство Ульяновской области                                                         590\n",
       "Администрация Томской области                                                             230\n",
       "Министерство транспорта и связи Свердловской области                                      196\n",
       "Правительство Волгоградской области                                                       155\n",
       "Администрация Главы Чувашской Республики                                                  130\n",
       "Федеральное дорожное агентство                                                            130\n",
       "Префектура Зеленоградского Административного округа города Москвы                         114\n",
       "Name: organization_name, dtype: int64"
      ]
     },
     "execution_count": 9,
     "metadata": {},
     "output_type": "execute_result"
    }
   ],
   "source": [
    "data.organization_name.value_counts().head(10)"
   ]
  },
  {
   "cell_type": "markdown",
   "metadata": {},
   "source": [
    "### Топ-5 тем наборов данных"
   ]
  },
  {
   "cell_type": "code",
   "execution_count": 10,
   "metadata": {
    "collapsed": false
   },
   "outputs": [
    {
     "data": {
      "text/plain": [
       "Перечень подведомственных организаций                                                                   27\n",
       "Населенные пункты, расположенные на территории поселения                                                15\n",
       "План проведения плановых проверок юридических лиц и индивидуальных предпринимателей на очередной год    12\n",
       "Реестр аккредитованных образовательных организаций                                                      12\n",
       "Реестр лицензий на осуществление образовательной деятельности                                           11\n",
       "Name: title, dtype: int64"
      ]
     },
     "execution_count": 10,
     "metadata": {},
     "output_type": "execute_result"
    }
   ],
   "source": [
    "data.title.value_counts().head()"
   ]
  },
  {
   "cell_type": "markdown",
   "metadata": {},
   "source": [
    "### Пример: остановки общественного транспорта"
   ]
  },
  {
   "cell_type": "code",
   "execution_count": 11,
   "metadata": {
    "collapsed": false
   },
   "outputs": [
    {
     "data": {
      "text/html": [
       "<div>\n",
       "<table border=\"1\" class=\"dataframe\">\n",
       "  <thead>\n",
       "    <tr style=\"text-align: right;\">\n",
       "      <th></th>\n",
       "      <th>identifier</th>\n",
       "      <th>organization</th>\n",
       "      <th>organization_name</th>\n",
       "      <th>title</th>\n",
       "      <th>topic</th>\n",
       "    </tr>\n",
       "  </thead>\n",
       "  <tbody>\n",
       "    <tr>\n",
       "      <th>422</th>\n",
       "      <td>7710489036-ostanovki-nazemnogo-gorodskogo-pass...</td>\n",
       "      <td>7.710489e+09</td>\n",
       "      <td>Высший исполнительный орган государственной вл...</td>\n",
       "      <td>Остановки наземного городского пассажирского т...</td>\n",
       "      <td>Transport</td>\n",
       "    </tr>\n",
       "    <tr>\n",
       "      <th>909</th>\n",
       "      <td>1380533740-01-DATA_MOS_RU_752</td>\n",
       "      <td>7.735018e+09</td>\n",
       "      <td>Префектура Зеленоградского Административного о...</td>\n",
       "      <td>Остановки НГПТ</td>\n",
       "      <td>Transport</td>\n",
       "    </tr>\n",
       "    <tr>\n",
       "      <th>3556</th>\n",
       "      <td>6630001974-public_stops</td>\n",
       "      <td>6.658356e+09</td>\n",
       "      <td>Министерство транспорта и связи Свердловской о...</td>\n",
       "      <td>Остановки общественного транспорта</td>\n",
       "      <td>Transport</td>\n",
       "    </tr>\n",
       "    <tr>\n",
       "      <th>4440</th>\n",
       "      <td>6613006789-ostanov</td>\n",
       "      <td>6.658356e+09</td>\n",
       "      <td>Министерство транспорта и связи Свердловской о...</td>\n",
       "      <td>Остановки общественного транспорта</td>\n",
       "      <td>Transport</td>\n",
       "    </tr>\n",
       "    <tr>\n",
       "      <th>4482</th>\n",
       "      <td>6606003882-obshestven_transport</td>\n",
       "      <td>6.658356e+09</td>\n",
       "      <td>Министерство транспорта и связи Свердловской о...</td>\n",
       "      <td>Остановки общественного транспорта</td>\n",
       "      <td>Transport</td>\n",
       "    </tr>\n",
       "    <tr>\n",
       "      <th>4513</th>\n",
       "      <td>6601013189-publictransport</td>\n",
       "      <td>6.658356e+09</td>\n",
       "      <td>Министерство транспорта и связи Свердловской о...</td>\n",
       "      <td>Остановки общественного транспорта муниципальн...</td>\n",
       "      <td>Transport</td>\n",
       "    </tr>\n",
       "    <tr>\n",
       "      <th>4545</th>\n",
       "      <td>6607002585-public_transport</td>\n",
       "      <td>6.658356e+09</td>\n",
       "      <td>Министерство транспорта и связи Свердловской о...</td>\n",
       "      <td>Остановки общественного транспорта</td>\n",
       "      <td>Transport</td>\n",
       "    </tr>\n",
       "    <tr>\n",
       "      <th>4565</th>\n",
       "      <td>6613002150-ostanovki</td>\n",
       "      <td>6.658356e+09</td>\n",
       "      <td>Министерство транспорта и связи Свердловской о...</td>\n",
       "      <td>Остановки общественного транспорта Камышловско...</td>\n",
       "      <td>Transport</td>\n",
       "    </tr>\n",
       "    <tr>\n",
       "      <th>9356</th>\n",
       "      <td>7704786030-busstops</td>\n",
       "      <td>7.710489e+09</td>\n",
       "      <td>Высший исполнительный орган государственной вл...</td>\n",
       "      <td>Остановки наземного городского пассажирского т...</td>\n",
       "      <td>Transport</td>\n",
       "    </tr>\n",
       "  </tbody>\n",
       "</table>\n",
       "</div>"
      ],
      "text/plain": [
       "                                             identifier  organization  \\\n",
       "422   7710489036-ostanovki-nazemnogo-gorodskogo-pass...  7.710489e+09   \n",
       "909                       1380533740-01-DATA_MOS_RU_752  7.735018e+09   \n",
       "3556                            6630001974-public_stops  6.658356e+09   \n",
       "4440                                 6613006789-ostanov  6.658356e+09   \n",
       "4482                    6606003882-obshestven_transport  6.658356e+09   \n",
       "4513                         6601013189-publictransport  6.658356e+09   \n",
       "4545                        6607002585-public_transport  6.658356e+09   \n",
       "4565                               6613002150-ostanovki  6.658356e+09   \n",
       "9356                                7704786030-busstops  7.710489e+09   \n",
       "\n",
       "                                      organization_name  \\\n",
       "422   Высший исполнительный орган государственной вл...   \n",
       "909   Префектура Зеленоградского Административного о...   \n",
       "3556  Министерство транспорта и связи Свердловской о...   \n",
       "4440  Министерство транспорта и связи Свердловской о...   \n",
       "4482  Министерство транспорта и связи Свердловской о...   \n",
       "4513  Министерство транспорта и связи Свердловской о...   \n",
       "4545  Министерство транспорта и связи Свердловской о...   \n",
       "4565  Министерство транспорта и связи Свердловской о...   \n",
       "9356  Высший исполнительный орган государственной вл...   \n",
       "\n",
       "                                                  title      topic  \n",
       "422   Остановки наземного городского пассажирского т...  Transport  \n",
       "909                                      Остановки НГПТ  Transport  \n",
       "3556                 Остановки общественного транспорта  Transport  \n",
       "4440                 Остановки общественного транспорта  Transport  \n",
       "4482                 Остановки общественного транспорта  Transport  \n",
       "4513  Остановки общественного транспорта муниципальн...  Transport  \n",
       "4545                 Остановки общественного транспорта  Transport  \n",
       "4565  Остановки общественного транспорта Камышловско...  Transport  \n",
       "9356  Остановки наземного городского пассажирского т...  Transport  "
      ]
     },
     "execution_count": 11,
     "metadata": {},
     "output_type": "execute_result"
    }
   ],
   "source": [
    "public_transport = data.ix[data.title.str.contains('Остановки|остановки'), :]\n",
    "public_transport"
   ]
  },
  {
   "cell_type": "code",
   "execution_count": 12,
   "metadata": {
    "collapsed": false
   },
   "outputs": [
    {
     "data": {
      "text/plain": [
       "'1380533740-01-DATA_MOS_RU_752'"
      ]
     },
     "execution_count": 12,
     "metadata": {},
     "output_type": "execute_result"
    }
   ],
   "source": [
    "identifier = public_transport.loc[909, 'identifier']\n",
    "identifier"
   ]
  },
  {
   "cell_type": "markdown",
   "metadata": {},
   "source": [
    "### Запрос набора данных"
   ]
  },
  {
   "cell_type": "markdown",
   "metadata": {},
   "source": [
    "Запрос вида api/dataset/**1380533740-01-DATA_MOS_RU_752**/?access_token=**7e9d0c209e93684a37a575ca4dl5h3d7**\n",
    "\n",
    "где первое выделение жирным это идентификатор датасета, второе токен"
   ]
  },
  {
   "cell_type": "code",
   "execution_count": 13,
   "metadata": {
    "collapsed": false
   },
   "outputs": [],
   "source": [
    "public_stops = get_data('dataset/' + identifier)"
   ]
  },
  {
   "cell_type": "code",
   "execution_count": 14,
   "metadata": {
    "collapsed": false,
    "scrolled": true
   },
   "outputs": [
    {
     "data": {
      "text/plain": [
       "{'created': '20130930T000000',\n",
       " 'creator': 'Префектура Зеленоградского Административного округа города Москвы',\n",
       " 'description': 'Остановки НГПТ',\n",
       " 'format': None,\n",
       " 'identifier': '1380533740-01-DATA_MOS_RU_752',\n",
       " 'modified': '20130930T000000',\n",
       " 'subject': 'Зеленоград,Остановки НГПТ',\n",
       " 'title': 'Остановки НГПТ'}"
      ]
     },
     "execution_count": 14,
     "metadata": {},
     "output_type": "execute_result"
    }
   ],
   "source": [
    "json.loads(public_stops)"
   ]
  },
  {
   "cell_type": "markdown",
   "metadata": {},
   "source": [
    "### Вывод"
   ]
  },
  {
   "cell_type": "markdown",
   "metadata": {},
   "source": [
    "Существующее API по большей части предоставляет метаинформацию о наборах данных. API для получения наборов данных не подходит и нужно использовать другие способы."
   ]
  },
  {
   "cell_type": "code",
   "execution_count": null,
   "metadata": {
    "collapsed": true
   },
   "outputs": [],
   "source": []
  }
 ],
 "metadata": {
  "anaconda-cloud": {},
  "kernelspec": {
   "display_name": "Python [conda env:datablog3]",
   "language": "python",
   "name": "conda-env-datablog3-py"
  },
  "language_info": {
   "codemirror_mode": {
    "name": "ipython",
    "version": 3
   },
   "file_extension": ".py",
   "mimetype": "text/x-python",
   "name": "python",
   "nbconvert_exporter": "python",
   "pygments_lexer": "ipython3",
   "version": "3.5.2"
  }
 },
 "nbformat": 4,
 "nbformat_minor": 1
}
